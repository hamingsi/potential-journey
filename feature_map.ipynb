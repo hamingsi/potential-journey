{
  "nbformat": 4,
  "nbformat_minor": 0,
  "metadata": {
    "colab": {
      "provenance": [],
      "authorship_tag": "ABX9TyNxDhzcX36iwv2wJ7/BGrPT",
      "include_colab_link": true
    },
    "kernelspec": {
      "name": "python3",
      "display_name": "Python 3"
    },
    "language_info": {
      "name": "python"
    },
    "accelerator": "GPU",
    "gpuClass": "standard",
    "widgets": {
      "application/vnd.jupyter.widget-state+json": {
        "1bfe82d0a64149089d4543db71e6389e": {
          "model_module": "@jupyter-widgets/controls",
          "model_name": "HBoxModel",
          "model_module_version": "1.5.0",
          "state": {
            "_dom_classes": [],
            "_model_module": "@jupyter-widgets/controls",
            "_model_module_version": "1.5.0",
            "_model_name": "HBoxModel",
            "_view_count": null,
            "_view_module": "@jupyter-widgets/controls",
            "_view_module_version": "1.5.0",
            "_view_name": "HBoxView",
            "box_style": "",
            "children": [
              "IPY_MODEL_2ad2746668ef4d2593b9f0f2ebe4933c",
              "IPY_MODEL_fb5466399be94ec5a295e52dc9c8a818",
              "IPY_MODEL_33936d72ccd647e9b93efb6a5a7107a5"
            ],
            "layout": "IPY_MODEL_1fe5b95a057b4215a48bc72886825414"
          }
        },
        "2ad2746668ef4d2593b9f0f2ebe4933c": {
          "model_module": "@jupyter-widgets/controls",
          "model_name": "HTMLModel",
          "model_module_version": "1.5.0",
          "state": {
            "_dom_classes": [],
            "_model_module": "@jupyter-widgets/controls",
            "_model_module_version": "1.5.0",
            "_model_name": "HTMLModel",
            "_view_count": null,
            "_view_module": "@jupyter-widgets/controls",
            "_view_module_version": "1.5.0",
            "_view_name": "HTMLView",
            "description": "",
            "description_tooltip": null,
            "layout": "IPY_MODEL_f7ece1b5b4244f7097435c3cc84db589",
            "placeholder": "​",
            "style": "IPY_MODEL_a5edab61ba644554a7087fc527d0a85c",
            "value": "100%"
          }
        },
        "fb5466399be94ec5a295e52dc9c8a818": {
          "model_module": "@jupyter-widgets/controls",
          "model_name": "FloatProgressModel",
          "model_module_version": "1.5.0",
          "state": {
            "_dom_classes": [],
            "_model_module": "@jupyter-widgets/controls",
            "_model_module_version": "1.5.0",
            "_model_name": "FloatProgressModel",
            "_view_count": null,
            "_view_module": "@jupyter-widgets/controls",
            "_view_module_version": "1.5.0",
            "_view_name": "ProgressView",
            "bar_style": "success",
            "description": "",
            "description_tooltip": null,
            "layout": "IPY_MODEL_5d97e1f4dc994bc0a735cca47a8d8203",
            "max": 170498071,
            "min": 0,
            "orientation": "horizontal",
            "style": "IPY_MODEL_f274b01d85594c69b0c3666029539009",
            "value": 170498071
          }
        },
        "33936d72ccd647e9b93efb6a5a7107a5": {
          "model_module": "@jupyter-widgets/controls",
          "model_name": "HTMLModel",
          "model_module_version": "1.5.0",
          "state": {
            "_dom_classes": [],
            "_model_module": "@jupyter-widgets/controls",
            "_model_module_version": "1.5.0",
            "_model_name": "HTMLModel",
            "_view_count": null,
            "_view_module": "@jupyter-widgets/controls",
            "_view_module_version": "1.5.0",
            "_view_name": "HTMLView",
            "description": "",
            "description_tooltip": null,
            "layout": "IPY_MODEL_4e55b404d273409ca2a1f51148517df4",
            "placeholder": "​",
            "style": "IPY_MODEL_42eefbf2583f4da3b9bb98afef9acdd5",
            "value": " 170498071/170498071 [00:05&lt;00:00, 30542258.67it/s]"
          }
        },
        "1fe5b95a057b4215a48bc72886825414": {
          "model_module": "@jupyter-widgets/base",
          "model_name": "LayoutModel",
          "model_module_version": "1.2.0",
          "state": {
            "_model_module": "@jupyter-widgets/base",
            "_model_module_version": "1.2.0",
            "_model_name": "LayoutModel",
            "_view_count": null,
            "_view_module": "@jupyter-widgets/base",
            "_view_module_version": "1.2.0",
            "_view_name": "LayoutView",
            "align_content": null,
            "align_items": null,
            "align_self": null,
            "border": null,
            "bottom": null,
            "display": null,
            "flex": null,
            "flex_flow": null,
            "grid_area": null,
            "grid_auto_columns": null,
            "grid_auto_flow": null,
            "grid_auto_rows": null,
            "grid_column": null,
            "grid_gap": null,
            "grid_row": null,
            "grid_template_areas": null,
            "grid_template_columns": null,
            "grid_template_rows": null,
            "height": null,
            "justify_content": null,
            "justify_items": null,
            "left": null,
            "margin": null,
            "max_height": null,
            "max_width": null,
            "min_height": null,
            "min_width": null,
            "object_fit": null,
            "object_position": null,
            "order": null,
            "overflow": null,
            "overflow_x": null,
            "overflow_y": null,
            "padding": null,
            "right": null,
            "top": null,
            "visibility": null,
            "width": null
          }
        },
        "f7ece1b5b4244f7097435c3cc84db589": {
          "model_module": "@jupyter-widgets/base",
          "model_name": "LayoutModel",
          "model_module_version": "1.2.0",
          "state": {
            "_model_module": "@jupyter-widgets/base",
            "_model_module_version": "1.2.0",
            "_model_name": "LayoutModel",
            "_view_count": null,
            "_view_module": "@jupyter-widgets/base",
            "_view_module_version": "1.2.0",
            "_view_name": "LayoutView",
            "align_content": null,
            "align_items": null,
            "align_self": null,
            "border": null,
            "bottom": null,
            "display": null,
            "flex": null,
            "flex_flow": null,
            "grid_area": null,
            "grid_auto_columns": null,
            "grid_auto_flow": null,
            "grid_auto_rows": null,
            "grid_column": null,
            "grid_gap": null,
            "grid_row": null,
            "grid_template_areas": null,
            "grid_template_columns": null,
            "grid_template_rows": null,
            "height": null,
            "justify_content": null,
            "justify_items": null,
            "left": null,
            "margin": null,
            "max_height": null,
            "max_width": null,
            "min_height": null,
            "min_width": null,
            "object_fit": null,
            "object_position": null,
            "order": null,
            "overflow": null,
            "overflow_x": null,
            "overflow_y": null,
            "padding": null,
            "right": null,
            "top": null,
            "visibility": null,
            "width": null
          }
        },
        "a5edab61ba644554a7087fc527d0a85c": {
          "model_module": "@jupyter-widgets/controls",
          "model_name": "DescriptionStyleModel",
          "model_module_version": "1.5.0",
          "state": {
            "_model_module": "@jupyter-widgets/controls",
            "_model_module_version": "1.5.0",
            "_model_name": "DescriptionStyleModel",
            "_view_count": null,
            "_view_module": "@jupyter-widgets/base",
            "_view_module_version": "1.2.0",
            "_view_name": "StyleView",
            "description_width": ""
          }
        },
        "5d97e1f4dc994bc0a735cca47a8d8203": {
          "model_module": "@jupyter-widgets/base",
          "model_name": "LayoutModel",
          "model_module_version": "1.2.0",
          "state": {
            "_model_module": "@jupyter-widgets/base",
            "_model_module_version": "1.2.0",
            "_model_name": "LayoutModel",
            "_view_count": null,
            "_view_module": "@jupyter-widgets/base",
            "_view_module_version": "1.2.0",
            "_view_name": "LayoutView",
            "align_content": null,
            "align_items": null,
            "align_self": null,
            "border": null,
            "bottom": null,
            "display": null,
            "flex": null,
            "flex_flow": null,
            "grid_area": null,
            "grid_auto_columns": null,
            "grid_auto_flow": null,
            "grid_auto_rows": null,
            "grid_column": null,
            "grid_gap": null,
            "grid_row": null,
            "grid_template_areas": null,
            "grid_template_columns": null,
            "grid_template_rows": null,
            "height": null,
            "justify_content": null,
            "justify_items": null,
            "left": null,
            "margin": null,
            "max_height": null,
            "max_width": null,
            "min_height": null,
            "min_width": null,
            "object_fit": null,
            "object_position": null,
            "order": null,
            "overflow": null,
            "overflow_x": null,
            "overflow_y": null,
            "padding": null,
            "right": null,
            "top": null,
            "visibility": null,
            "width": null
          }
        },
        "f274b01d85594c69b0c3666029539009": {
          "model_module": "@jupyter-widgets/controls",
          "model_name": "ProgressStyleModel",
          "model_module_version": "1.5.0",
          "state": {
            "_model_module": "@jupyter-widgets/controls",
            "_model_module_version": "1.5.0",
            "_model_name": "ProgressStyleModel",
            "_view_count": null,
            "_view_module": "@jupyter-widgets/base",
            "_view_module_version": "1.2.0",
            "_view_name": "StyleView",
            "bar_color": null,
            "description_width": ""
          }
        },
        "4e55b404d273409ca2a1f51148517df4": {
          "model_module": "@jupyter-widgets/base",
          "model_name": "LayoutModel",
          "model_module_version": "1.2.0",
          "state": {
            "_model_module": "@jupyter-widgets/base",
            "_model_module_version": "1.2.0",
            "_model_name": "LayoutModel",
            "_view_count": null,
            "_view_module": "@jupyter-widgets/base",
            "_view_module_version": "1.2.0",
            "_view_name": "LayoutView",
            "align_content": null,
            "align_items": null,
            "align_self": null,
            "border": null,
            "bottom": null,
            "display": null,
            "flex": null,
            "flex_flow": null,
            "grid_area": null,
            "grid_auto_columns": null,
            "grid_auto_flow": null,
            "grid_auto_rows": null,
            "grid_column": null,
            "grid_gap": null,
            "grid_row": null,
            "grid_template_areas": null,
            "grid_template_columns": null,
            "grid_template_rows": null,
            "height": null,
            "justify_content": null,
            "justify_items": null,
            "left": null,
            "margin": null,
            "max_height": null,
            "max_width": null,
            "min_height": null,
            "min_width": null,
            "object_fit": null,
            "object_position": null,
            "order": null,
            "overflow": null,
            "overflow_x": null,
            "overflow_y": null,
            "padding": null,
            "right": null,
            "top": null,
            "visibility": null,
            "width": null
          }
        },
        "42eefbf2583f4da3b9bb98afef9acdd5": {
          "model_module": "@jupyter-widgets/controls",
          "model_name": "DescriptionStyleModel",
          "model_module_version": "1.5.0",
          "state": {
            "_model_module": "@jupyter-widgets/controls",
            "_model_module_version": "1.5.0",
            "_model_name": "DescriptionStyleModel",
            "_view_count": null,
            "_view_module": "@jupyter-widgets/base",
            "_view_module_version": "1.2.0",
            "_view_name": "StyleView",
            "description_width": ""
          }
        }
      }
    }
  },
  "cells": [
    {
      "cell_type": "markdown",
      "metadata": {
        "id": "view-in-github",
        "colab_type": "text"
      },
      "source": [
        "<a href=\"https://colab.research.google.com/github/hamingsi/potential-journey/blob/main/feature_map.ipynb\" target=\"_parent\"><img src=\"https://colab.research.google.com/assets/colab-badge.svg\" alt=\"Open In Colab\"/></a>"
      ]
    },
    {
      "cell_type": "code",
      "execution_count": null,
      "metadata": {
        "id": "yV1_A-4m4RAZ"
      },
      "outputs": [],
      "source": [
        "# 如果使用feature map 需要更换网络结构至LeNet-5\n",
        "\n",
        "import time\n",
        "import torch\n",
        "from torch import nn, optim\n",
        "import torch.nn.functional as F\n",
        "import torchvision\n",
        "import torchvision.transforms as transforms\n",
        "import sys\n",
        "sys.path.append(\"..\") \n",
        "device = torch.device('cuda' if torch.cuda.is_available() else 'cpu')\n",
        "class LeNet(nn.Module):\n",
        "    def __init__(self):\n",
        "        super(LeNet, self).__init__()\n",
        "        self.conv = nn.Sequential(\n",
        "            nn.Conv2d(3, 32, 3), # in_channels, out_channels, kernel_size\n",
        "            nn.ReLU(),\n",
        "            nn.Conv2d(32, 32, 3),\n",
        "            nn.ReLU(),\n",
        "            nn.MaxPool2d(2, 2),\n",
        "            nn.Dropout(p=0.2),\n",
        "            nn.Conv2d(32, 64, 3),\n",
        "            nn.ReLU(),\n",
        "            nn.Conv2d(64, 64, 3),\n",
        "            nn.ReLU(),\n",
        "            nn.MaxPool2d(2, 2),\n",
        "            nn.Dropout(p=0.2),\n",
        "            nn.Conv2d(64, 128, 3),\n",
        "            nn.ReLU(),\n",
        "            nn.Conv2d(128, 128, 2),\n",
        "            nn.ReLU(),\n",
        "            nn.MaxPool2d(2, 2), # kernel_size, stride\n",
        "            nn.Dropout(p=0.2)\n",
        "        )\n",
        "        self.fc = nn.Sequential(\n",
        "            nn.Linear(128, 128),\n",
        "            nn.ReLU(),\n",
        "            nn.Linear(128, 84),\n",
        "            nn.ReLU(),\n",
        "            nn.Dropout(p=0.3),\n",
        "            nn.Linear(84, 10)\n",
        "        )\n",
        "\n",
        "    def forward(self, img):\n",
        "        feature = self.conv(img)\n",
        "        output = self.fc(feature.view(img.shape[0], -1))\n",
        "        return output"
      ]
    },
    {
      "cell_type": "code",
      "source": [
        "net = LeNet()\n",
        "print(net)"
      ],
      "metadata": {
        "colab": {
          "base_uri": "https://localhost:8080/"
        },
        "id": "cl3L0bAe5zCp",
        "outputId": "d570d410-6015-4f61-cd00-c2d32c88d357"
      },
      "execution_count": null,
      "outputs": [
        {
          "output_type": "stream",
          "name": "stdout",
          "text": [
            "LeNet(\n",
            "  (conv): Sequential(\n",
            "    (0): Conv2d(3, 32, kernel_size=(3, 3), stride=(1, 1))\n",
            "    (1): ReLU()\n",
            "    (2): Conv2d(32, 32, kernel_size=(3, 3), stride=(1, 1))\n",
            "    (3): ReLU()\n",
            "    (4): MaxPool2d(kernel_size=2, stride=2, padding=0, dilation=1, ceil_mode=False)\n",
            "    (5): Dropout(p=0.2, inplace=False)\n",
            "    (6): Conv2d(32, 64, kernel_size=(3, 3), stride=(1, 1))\n",
            "    (7): ReLU()\n",
            "    (8): Conv2d(64, 64, kernel_size=(3, 3), stride=(1, 1))\n",
            "    (9): ReLU()\n",
            "    (10): MaxPool2d(kernel_size=2, stride=2, padding=0, dilation=1, ceil_mode=False)\n",
            "    (11): Dropout(p=0.2, inplace=False)\n",
            "    (12): Conv2d(64, 128, kernel_size=(3, 3), stride=(1, 1))\n",
            "    (13): ReLU()\n",
            "    (14): Conv2d(128, 128, kernel_size=(2, 2), stride=(1, 1))\n",
            "    (15): ReLU()\n",
            "    (16): MaxPool2d(kernel_size=2, stride=2, padding=0, dilation=1, ceil_mode=False)\n",
            "    (17): Dropout(p=0.2, inplace=False)\n",
            "  )\n",
            "  (fc): Sequential(\n",
            "    (0): Linear(in_features=128, out_features=128, bias=True)\n",
            "    (1): ReLU()\n",
            "    (2): Linear(in_features=128, out_features=84, bias=True)\n",
            "    (3): ReLU()\n",
            "    (4): Dropout(p=0.3, inplace=False)\n",
            "    (5): Linear(in_features=84, out_features=10, bias=True)\n",
            "  )\n",
            ")\n"
          ]
        }
      ]
    },
    {
      "cell_type": "code",
      "source": [
        "transform = transforms.Compose([\n",
        "    transforms.ToTensor(),\n",
        "    transforms.Normalize((0.5, 0.5, 0.5), (0.5, 0.5, 0.5))\n",
        "])\n",
        "# 数据自动下载链接，并保存到本地\n",
        "train_data = torchvision.datasets.CIFAR10(root='./data/CIFAR10', train=True,\n",
        "                                          download=True, transform=transform)\n",
        "test_data = torchvision.datasets.CIFAR10(root='./data/CIFAR10', train=False,\n",
        "                                         download=True, transform=transform)\n",
        "\n",
        "K = 5000\n",
        "\n",
        "# train_data.data = train_data.data[:K]\n",
        "# train_data.targets = train_data.targets[:K]\n",
        "# test_data.data = test_data.data[:K]\n",
        "# test_data.targets = test_data.targets[:K]"
      ],
      "metadata": {
        "colab": {
          "base_uri": "https://localhost:8080/",
          "height": 104,
          "referenced_widgets": [
            "1bfe82d0a64149089d4543db71e6389e",
            "2ad2746668ef4d2593b9f0f2ebe4933c",
            "fb5466399be94ec5a295e52dc9c8a818",
            "33936d72ccd647e9b93efb6a5a7107a5",
            "1fe5b95a057b4215a48bc72886825414",
            "f7ece1b5b4244f7097435c3cc84db589",
            "a5edab61ba644554a7087fc527d0a85c",
            "5d97e1f4dc994bc0a735cca47a8d8203",
            "f274b01d85594c69b0c3666029539009",
            "4e55b404d273409ca2a1f51148517df4",
            "42eefbf2583f4da3b9bb98afef9acdd5"
          ]
        },
        "id": "4UXJgrXM51Wf",
        "outputId": "579f6fbc-b247-444b-c973-68ebca32634b"
      },
      "execution_count": null,
      "outputs": [
        {
          "output_type": "stream",
          "name": "stdout",
          "text": [
            "Downloading https://www.cs.toronto.edu/~kriz/cifar-10-python.tar.gz to ./data/CIFAR10/cifar-10-python.tar.gz\n"
          ]
        },
        {
          "output_type": "display_data",
          "data": {
            "text/plain": [
              "  0%|          | 0/170498071 [00:00<?, ?it/s]"
            ],
            "application/vnd.jupyter.widget-view+json": {
              "version_major": 2,
              "version_minor": 0,
              "model_id": "1bfe82d0a64149089d4543db71e6389e"
            }
          },
          "metadata": {}
        },
        {
          "output_type": "stream",
          "name": "stdout",
          "text": [
            "Extracting ./data/CIFAR10/cifar-10-python.tar.gz to ./data/CIFAR10\n",
            "Files already downloaded and verified\n"
          ]
        }
      ]
    },
    {
      "cell_type": "code",
      "source": [
        "batch_size = 512\n",
        "train_iter = torch.utils.data.DataLoader(train_data, batch_size=batch_size, shuffle=True)\n",
        "test_iter = torch.utils.data.DataLoader(test_data, batch_size=batch_size, shuffle=True)"
      ],
      "metadata": {
        "id": "nEN2KCGR52h3"
      },
      "execution_count": null,
      "outputs": []
    },
    {
      "cell_type": "code",
      "source": [
        "# 本函数已保存在d2lzh_pytorch包中方便以后使用。该函数将被逐步改进。\n",
        "def evaluate_accuracy(data_iter, net, device=None):\n",
        "    if device is None and isinstance(net, torch.nn.Module):\n",
        "        # 如果没指定device就使用net的device\n",
        "        device = list(net.parameters())[0].device\n",
        "    acc_sum, n = 0.0, 0\n",
        "    with torch.no_grad():\n",
        "        for X, y in data_iter:\n",
        "            if isinstance(net, torch.nn.Module):\n",
        "                net.eval() # 评估模式, 这会关闭dropout\n",
        "                acc_sum += (net(X.to(device)).argmax(dim=1) == y.to(device)).float().sum().cpu().item()\n",
        "                net.train() # 改回训练模式\n",
        "            else: # 自定义的模型, 3.13节之后不会用到, 不考虑GPU\n",
        "                if('is_training' in net.__code__.co_varnames): # 如果有is_training这个参数\n",
        "                    # 将is_training设置成False\n",
        "                    acc_sum += (net(X, is_training=False).argmax(dim=1) == y).float().sum().item() \n",
        "                else:\n",
        "                    acc_sum += (net(X).argmax(dim=1) == y).float().sum().item() \n",
        "            n += y.shape[0]\n",
        "    return acc_sum / n"
      ],
      "metadata": {
        "id": "3HFd7k6O53FB"
      },
      "execution_count": null,
      "outputs": []
    },
    {
      "cell_type": "code",
      "source": [
        "# 本函数已保存在d2lzh_pytorch包中方便以后使用\n",
        "def train_ch5(net, train_iter, test_iter, batch_size, optimizer, device, num_epochs):\n",
        "    net = net.to(device)\n",
        "    print(\"training on \", device)\n",
        "    loss = torch.nn.CrossEntropyLoss()\n",
        "    loss_all, train_acc_all, test_acc_all = [], [], []\n",
        "    for epoch in range(num_epochs):\n",
        "        train_l_sum, train_acc_sum, n, batch_count, start = 0.0, 0.0, 0, 0, time.time()\n",
        "        for X, y in train_iter:\n",
        "            X = X.to(device)\n",
        "            y = y.to(device)\n",
        "            y_hat = net(X)\n",
        "            l = loss(y_hat, y)\n",
        "            optimizer.zero_grad()\n",
        "            l.backward()\n",
        "            optimizer.step()\n",
        "            train_l_sum += l.cpu().item()\n",
        "            train_acc_sum += (y_hat.argmax(dim=1) == y).sum().cpu().item()\n",
        "            n += y.shape[0]\n",
        "            batch_count += 1\n",
        "        test_acc = evaluate_accuracy(test_iter, net)\n",
        "        loss_all.append(train_l_sum / batch_count)\n",
        "        train_acc_all.append(train_acc_sum / n)\n",
        "        test_acc_all.append(test_acc)\n",
        "        print('epoch %d, loss %.4f, train acc %.3f, test acc %.3f, time %.1f sec'\n",
        "              % (epoch + 1, train_l_sum / batch_count, train_acc_sum / n, test_acc, time.time() - start))\n",
        "    return loss_all, train_acc_all, test_acc_all"
      ],
      "metadata": {
        "id": "yGWCNr1c55AZ"
      },
      "execution_count": null,
      "outputs": []
    },
    {
      "cell_type": "code",
      "source": [
        "lr = 0.001\n",
        "optimizer = torch.optim.Adam(net.parameters(), lr=lr)\n",
        "epoch = [5, 10, 20, 50, 100]\n",
        "# for i in range(5):\n",
        "#   net = LeNet()\n",
        "#   num_epochs = epoch[i]\n",
        "num_epochs = 30\n",
        "loss_all, train_acc_all, test_acc_all = train_ch5(net, train_iter, test_iter, batch_size, optimizer, device, num_epochs)\n",
        "#   loss_all.append(loss)\n",
        "#   train_acc_all.append(train_acc)\n",
        "#   test_acc_all.append(test_acc)"
      ],
      "metadata": {
        "colab": {
          "base_uri": "https://localhost:8080/"
        },
        "id": "_ZlgbVml56I_",
        "outputId": "63eda5b3-871c-467f-c064-640cbf94584b"
      },
      "execution_count": null,
      "outputs": [
        {
          "output_type": "stream",
          "name": "stdout",
          "text": [
            "training on  cuda\n",
            "epoch 1, loss 2.0377, train acc 0.218, test acc 0.336, time 22.9 sec\n",
            "epoch 2, loss 1.7230, train acc 0.349, test acc 0.379, time 17.8 sec\n",
            "epoch 3, loss 1.5890, train acc 0.401, test acc 0.432, time 15.9 sec\n",
            "epoch 4, loss 1.4849, train acc 0.444, test acc 0.482, time 15.8 sec\n",
            "epoch 5, loss 1.3916, train acc 0.487, test acc 0.523, time 15.9 sec\n",
            "epoch 6, loss 1.3222, train acc 0.520, test acc 0.558, time 19.6 sec\n",
            "epoch 7, loss 1.2361, train acc 0.556, test acc 0.585, time 16.7 sec\n",
            "epoch 8, loss 1.1831, train acc 0.578, test acc 0.597, time 17.1 sec\n",
            "epoch 9, loss 1.1326, train acc 0.599, test acc 0.612, time 17.4 sec\n",
            "epoch 10, loss 1.0958, train acc 0.611, test acc 0.639, time 17.0 sec\n",
            "epoch 11, loss 1.0428, train acc 0.633, test acc 0.647, time 17.4 sec\n",
            "epoch 12, loss 1.0035, train acc 0.647, test acc 0.656, time 18.4 sec\n",
            "epoch 13, loss 0.9642, train acc 0.662, test acc 0.673, time 16.3 sec\n",
            "epoch 14, loss 0.9263, train acc 0.674, test acc 0.677, time 16.9 sec\n",
            "epoch 15, loss 0.8809, train acc 0.693, test acc 0.701, time 17.2 sec\n",
            "epoch 16, loss 0.8597, train acc 0.699, test acc 0.706, time 16.7 sec\n",
            "epoch 17, loss 0.8347, train acc 0.712, test acc 0.705, time 16.1 sec\n",
            "epoch 18, loss 0.8082, train acc 0.720, test acc 0.708, time 17.0 sec\n",
            "epoch 19, loss 0.7741, train acc 0.733, test acc 0.733, time 17.2 sec\n",
            "epoch 20, loss 0.7568, train acc 0.740, test acc 0.738, time 16.8 sec\n",
            "epoch 21, loss 0.7405, train acc 0.744, test acc 0.739, time 16.6 sec\n",
            "epoch 22, loss 0.7150, train acc 0.755, test acc 0.745, time 17.7 sec\n",
            "epoch 23, loss 0.7016, train acc 0.758, test acc 0.742, time 16.5 sec\n",
            "epoch 24, loss 0.6818, train acc 0.762, test acc 0.756, time 16.9 sec\n",
            "epoch 25, loss 0.6707, train acc 0.768, test acc 0.754, time 16.9 sec\n",
            "epoch 26, loss 0.6453, train acc 0.778, test acc 0.763, time 16.1 sec\n",
            "epoch 27, loss 0.6367, train acc 0.782, test acc 0.762, time 16.1 sec\n",
            "epoch 28, loss 0.6213, train acc 0.785, test acc 0.763, time 16.0 sec\n",
            "epoch 29, loss 0.6059, train acc 0.791, test acc 0.763, time 16.8 sec\n",
            "epoch 30, loss 0.5936, train acc 0.796, test acc 0.770, time 16.1 sec\n"
          ]
        }
      ]
    },
    {
      "cell_type": "code",
      "source": [
        "import numpy as np\n",
        "import matplotlib.pyplot as plt\n",
        "\n",
        "from google.colab import drive\n",
        "drive.mount('/content/drive')\n",
        " \n",
        "import os\n",
        "os.chdir('/content/drive/My Drive')\n",
        "\n",
        "\n",
        "fig = plt.figure()\n",
        "loss_all, train_acc_all, test_acc_all\n",
        "plt.plot(train_acc_all, label='train accuracy')\n",
        "plt.plot(test_acc_all, label='test accuracy')\n",
        "plt.legend(loc='lower right')\n",
        "\n",
        "plt.savefig(\"picture/accuracy.png\", dpi=100)\n",
        "plt.show()\n"
      ],
      "metadata": {
        "id": "8-cJVRgd57aO",
        "colab": {
          "base_uri": "https://localhost:8080/",
          "height": 283
        },
        "outputId": "b783b3d0-4e88-48dd-8e38-1c320adb169f"
      },
      "execution_count": null,
      "outputs": [
        {
          "output_type": "stream",
          "name": "stdout",
          "text": [
            "Mounted at /content/drive\n"
          ]
        },
        {
          "output_type": "display_data",
          "data": {
            "text/plain": [
              "<Figure size 432x288 with 1 Axes>"
            ],
            "image/png": "[encoded data removed]"
          },
          "metadata": {
            "needs_background": "light"
          }
        }
      ]
    },
    {
      "cell_type": "code",
      "source": [
        "model_weights = [] \n",
        "conv_layers = [] \n",
        "model_children = list(net.children())\n",
        "\n",
        "# counter to keep count of the conv layers\n",
        "counter = 0 \n",
        "print(type(model_children[0][0]))\n",
        "# append all the conv layers and their respective weights to the list\n",
        "for i in range(len(model_children)):\n",
        "  for layer in model_children[i]:\n",
        "    if type(layer) == nn.Conv2d:\n",
        "      counter += 1\n",
        "      model_weights.append(layer.weight)\n",
        "      conv_layers.append(layer)\n",
        "\n",
        "print(f\"Total convolutional layers: {counter}\")"
      ],
      "metadata": {
        "id": "sNhdPV3N58-y",
        "colab": {
          "base_uri": "https://localhost:8080/"
        },
        "outputId": "cf493c78-1090-4970-9f9b-5792c3b21cac"
      },
      "execution_count": null,
      "outputs": [
        {
          "output_type": "stream",
          "name": "stdout",
          "text": [
            "<class 'torch.nn.modules.conv.Conv2d'>\n",
            "Total convolutional layers: 6\n"
          ]
        }
      ]
    },
    {
      "cell_type": "code",
      "source": [
        "for weight, conv in zip(model_weights, conv_layers):\n",
        "    # print(f\"WEIGHT: {weight} \\nSHAPE: {weight.shape}\")\n",
        "    print(f\"CONV: {conv} ====> SHAPE: {weight.shape}\")"
      ],
      "metadata": {
        "id": "pF0OgZlJ-EiB",
        "colab": {
          "base_uri": "https://localhost:8080/"
        },
        "outputId": "56c7fa6b-5dfd-4d75-b63f-3090d1d173b1"
      },
      "execution_count": null,
      "outputs": [
        {
          "output_type": "stream",
          "name": "stdout",
          "text": [
            "CONV: Conv2d(3, 32, kernel_size=(3, 3), stride=(1, 1)) ====> SHAPE: torch.Size([32, 3, 3, 3])\n",
            "CONV: Conv2d(32, 32, kernel_size=(3, 3), stride=(1, 1)) ====> SHAPE: torch.Size([32, 32, 3, 3])\n",
            "CONV: Conv2d(32, 64, kernel_size=(3, 3), stride=(1, 1)) ====> SHAPE: torch.Size([64, 32, 3, 3])\n",
            "CONV: Conv2d(64, 64, kernel_size=(3, 3), stride=(1, 1)) ====> SHAPE: torch.Size([64, 64, 3, 3])\n",
            "CONV: Conv2d(64, 128, kernel_size=(3, 3), stride=(1, 1)) ====> SHAPE: torch.Size([128, 64, 3, 3])\n",
            "CONV: Conv2d(128, 128, kernel_size=(2, 2), stride=(1, 1)) ====> SHAPE: torch.Size([128, 128, 2, 2])\n"
          ]
        }
      ]
    },
    {
      "cell_type": "code",
      "source": [
        "\n",
        "# visualize the first conv layer filters\n",
        "plt.figure(figsize=(20, 17))\n",
        "for i, filter in enumerate(model_weights[0]):\n",
        "    plt.subplot(3, 3, i+1) # we have 5x5 filters and total of 16 (see printed shapes)\n",
        "    plt.imshow(filter[0, :, :].detach().cpu().numpy(), cmap='viridis')\n",
        "    plt.axis('off')\n",
        "    plt.savefig('first layer.png')\n",
        "plt.show()"
      ],
      "metadata": {
        "id": "GooweU_R-GY2",
        "colab": {
          "base_uri": "https://localhost:8080/",
          "height": 1000
        },
        "outputId": "bf8a26a9-2ac4-46c9-9833-c9365d2628e2"
      },
      "execution_count": null,
      "outputs": [
        {
          "output_type": "error",
          "ename": "ValueError",
          "evalue": "ignored",
          "traceback": [
            "\u001b[0;31m---------------------------------------------------------------------------\u001b[0m",
            "\u001b[0;31mValueError\u001b[0m                                Traceback (most recent call last)",
            "\u001b[0;32m<ipython-input-12-db62828727db>\u001b[0m in \u001b[0;36m<module>\u001b[0;34m\u001b[0m\n\u001b[1;32m      2\u001b[0m \u001b[0mplt\u001b[0m\u001b[0;34m.\u001b[0m\u001b[0mfigure\u001b[0m\u001b[0;34m(\u001b[0m\u001b[0mfigsize\u001b[0m\u001b[0;34m=\u001b[0m\u001b[0;34m(\u001b[0m\u001b[0;36m20\u001b[0m\u001b[0;34m,\u001b[0m \u001b[0;36m17\u001b[0m\u001b[0;34m)\u001b[0m\u001b[0;34m)\u001b[0m\u001b[0;34m\u001b[0m\u001b[0;34m\u001b[0m\u001b[0m\n\u001b[1;32m      3\u001b[0m \u001b[0;32mfor\u001b[0m \u001b[0mi\u001b[0m\u001b[0;34m,\u001b[0m \u001b[0mfilter\u001b[0m \u001b[0;32min\u001b[0m \u001b[0menumerate\u001b[0m\u001b[0;34m(\u001b[0m\u001b[0mmodel_weights\u001b[0m\u001b[0;34m[\u001b[0m\u001b[0;36m0\u001b[0m\u001b[0;34m]\u001b[0m\u001b[0;34m)\u001b[0m\u001b[0;34m:\u001b[0m\u001b[0;34m\u001b[0m\u001b[0;34m\u001b[0m\u001b[0m\n\u001b[0;32m----> 4\u001b[0;31m     \u001b[0mplt\u001b[0m\u001b[0;34m.\u001b[0m\u001b[0msubplot\u001b[0m\u001b[0;34m(\u001b[0m\u001b[0;36m3\u001b[0m\u001b[0;34m,\u001b[0m \u001b[0;36m3\u001b[0m\u001b[0;34m,\u001b[0m \u001b[0mi\u001b[0m\u001b[0;34m+\u001b[0m\u001b[0;36m1\u001b[0m\u001b[0;34m)\u001b[0m \u001b[0;31m# we have 5x5 filters and total of 16 (see printed shapes)\u001b[0m\u001b[0;34m\u001b[0m\u001b[0;34m\u001b[0m\u001b[0m\n\u001b[0m\u001b[1;32m      5\u001b[0m     \u001b[0mplt\u001b[0m\u001b[0;34m.\u001b[0m\u001b[0mimshow\u001b[0m\u001b[0;34m(\u001b[0m\u001b[0mfilter\u001b[0m\u001b[0;34m[\u001b[0m\u001b[0;36m0\u001b[0m\u001b[0;34m,\u001b[0m \u001b[0;34m:\u001b[0m\u001b[0;34m,\u001b[0m \u001b[0;34m:\u001b[0m\u001b[0;34m]\u001b[0m\u001b[0;34m.\u001b[0m\u001b[0mdetach\u001b[0m\u001b[0;34m(\u001b[0m\u001b[0;34m)\u001b[0m\u001b[0;34m.\u001b[0m\u001b[0mcpu\u001b[0m\u001b[0;34m(\u001b[0m\u001b[0;34m)\u001b[0m\u001b[0;34m.\u001b[0m\u001b[0mnumpy\u001b[0m\u001b[0;34m(\u001b[0m\u001b[0;34m)\u001b[0m\u001b[0;34m,\u001b[0m \u001b[0mcmap\u001b[0m\u001b[0;34m=\u001b[0m\u001b[0;34m'viridis'\u001b[0m\u001b[0;34m)\u001b[0m\u001b[0;34m\u001b[0m\u001b[0;34m\u001b[0m\u001b[0m\n\u001b[1;32m      6\u001b[0m     \u001b[0mplt\u001b[0m\u001b[0;34m.\u001b[0m\u001b[0maxis\u001b[0m\u001b[0;34m(\u001b[0m\u001b[0;34m'off'\u001b[0m\u001b[0;34m)\u001b[0m\u001b[0;34m\u001b[0m\u001b[0;34m\u001b[0m\u001b[0m\n",
            "\u001b[0;32m/usr/local/lib/python3.7/dist-packages/matplotlib/pyplot.py\u001b[0m in \u001b[0;36msubplot\u001b[0;34m(*args, **kwargs)\u001b[0m\n\u001b[1;32m   1028\u001b[0m \u001b[0;34m\u001b[0m\u001b[0m\n\u001b[1;32m   1029\u001b[0m     \u001b[0mfig\u001b[0m \u001b[0;34m=\u001b[0m \u001b[0mgcf\u001b[0m\u001b[0;34m(\u001b[0m\u001b[0;34m)\u001b[0m\u001b[0;34m\u001b[0m\u001b[0;34m\u001b[0m\u001b[0m\n\u001b[0;32m-> 1030\u001b[0;31m     \u001b[0ma\u001b[0m \u001b[0;34m=\u001b[0m \u001b[0mfig\u001b[0m\u001b[0;34m.\u001b[0m\u001b[0madd_subplot\u001b[0m\u001b[0;34m(\u001b[0m\u001b[0;34m*\u001b[0m\u001b[0margs\u001b[0m\u001b[0;34m,\u001b[0m \u001b[0;34m**\u001b[0m\u001b[0mkwargs\u001b[0m\u001b[0;34m)\u001b[0m\u001b[0;34m\u001b[0m\u001b[0;34m\u001b[0m\u001b[0m\n\u001b[0m\u001b[1;32m   1031\u001b[0m     \u001b[0mbbox\u001b[0m \u001b[0;34m=\u001b[0m \u001b[0ma\u001b[0m\u001b[0;34m.\u001b[0m\u001b[0mbbox\u001b[0m\u001b[0;34m\u001b[0m\u001b[0;34m\u001b[0m\u001b[0m\n\u001b[1;32m   1032\u001b[0m     \u001b[0mbyebye\u001b[0m \u001b[0;34m=\u001b[0m \u001b[0;34m[\u001b[0m\u001b[0;34m]\u001b[0m\u001b[0;34m\u001b[0m\u001b[0;34m\u001b[0m\u001b[0m\n",
            "\u001b[0;32m/usr/local/lib/python3.7/dist-packages/matplotlib/figure.py\u001b[0m in \u001b[0;36madd_subplot\u001b[0;34m(self, *args, **kwargs)\u001b[0m\n\u001b[1;32m   1417\u001b[0m                     \u001b[0mself\u001b[0m\u001b[0;34m.\u001b[0m\u001b[0m_axstack\u001b[0m\u001b[0;34m.\u001b[0m\u001b[0mremove\u001b[0m\u001b[0;34m(\u001b[0m\u001b[0max\u001b[0m\u001b[0;34m)\u001b[0m\u001b[0;34m\u001b[0m\u001b[0;34m\u001b[0m\u001b[0m\n\u001b[1;32m   1418\u001b[0m \u001b[0;34m\u001b[0m\u001b[0m\n\u001b[0;32m-> 1419\u001b[0;31m             \u001b[0ma\u001b[0m \u001b[0;34m=\u001b[0m \u001b[0msubplot_class_factory\u001b[0m\u001b[0;34m(\u001b[0m\u001b[0mprojection_class\u001b[0m\u001b[0;34m)\u001b[0m\u001b[0;34m(\u001b[0m\u001b[0mself\u001b[0m\u001b[0;34m,\u001b[0m \u001b[0;34m*\u001b[0m\u001b[0margs\u001b[0m\u001b[0;34m,\u001b[0m \u001b[0;34m**\u001b[0m\u001b[0mkwargs\u001b[0m\u001b[0;34m)\u001b[0m\u001b[0;34m\u001b[0m\u001b[0;34m\u001b[0m\u001b[0m\n\u001b[0m\u001b[1;32m   1420\u001b[0m \u001b[0;34m\u001b[0m\u001b[0m\n\u001b[1;32m   1421\u001b[0m         \u001b[0;32mreturn\u001b[0m \u001b[0mself\u001b[0m\u001b[0;34m.\u001b[0m\u001b[0m_add_axes_internal\u001b[0m\u001b[0;34m(\u001b[0m\u001b[0mkey\u001b[0m\u001b[0;34m,\u001b[0m \u001b[0ma\u001b[0m\u001b[0;34m)\u001b[0m\u001b[0;34m\u001b[0m\u001b[0;34m\u001b[0m\u001b[0m\n",
            "\u001b[0;32m/usr/local/lib/python3.7/dist-packages/matplotlib/axes/_subplots.py\u001b[0m in \u001b[0;36m__init__\u001b[0;34m(self, fig, *args, **kwargs)\u001b[0m\n\u001b[1;32m     64\u001b[0m                 \u001b[0;32mif\u001b[0m \u001b[0mnum\u001b[0m \u001b[0;34m<\u001b[0m \u001b[0;36m1\u001b[0m \u001b[0;32mor\u001b[0m \u001b[0mnum\u001b[0m \u001b[0;34m>\u001b[0m \u001b[0mrows\u001b[0m\u001b[0;34m*\u001b[0m\u001b[0mcols\u001b[0m\u001b[0;34m:\u001b[0m\u001b[0;34m\u001b[0m\u001b[0;34m\u001b[0m\u001b[0m\n\u001b[1;32m     65\u001b[0m                     raise ValueError(\n\u001b[0;32m---> 66\u001b[0;31m                         f\"num must be 1 <= num <= {rows*cols}, not {num}\")\n\u001b[0m\u001b[1;32m     67\u001b[0m                 self._subplotspec = GridSpec(\n\u001b[1;32m     68\u001b[0m                         rows, cols, figure=self.figure)[int(num) - 1]\n",
            "\u001b[0;31mValueError\u001b[0m: num must be 1 <= num <= 9, not 10"
          ]
        },
        {
          "output_type": "display_data",
          "data": {
            "text/plain": [
              "<Figure size 1440x1224 with 9 Axes>"
            ],
            "image/png": "[encoded data removed]"
          },
          "metadata": {
            "needs_background": "light"
          }
        }
      ]
    },
    {
      "cell_type": "code",
      "source": [
        "for i, filter in enumerate(model_weights[1]):\n",
        "    plt.subplot(4, 4, i+1) # we have 5x5 filters and total of 16 (see printed shapes)\n",
        "    plt.imshow(filter[0, :, :].detach().cpu().numpy(), cmap='viridis')\n",
        "    plt.axis('off')\n",
        "    plt.savefig('second layer.png')\n",
        "plt.show()"
      ],
      "metadata": {
        "id": "5f8crk4KAa1U"
      },
      "execution_count": null,
      "outputs": []
    },
    {
      "cell_type": "code",
      "source": [
        "activation = {}\n",
        "def get_activation(name):\n",
        "    def hook(model, input, output):\n",
        "        activation[name] = output.detach()\n",
        "    return hook"
      ],
      "metadata": {
        "id": "MpNEkH4QApl-"
      },
      "execution_count": null,
      "outputs": []
    },
    {
      "cell_type": "code",
      "source": [
        "example, _ = train_data[4]\n",
        "plt.axis('off')\n",
        "\n",
        "plt.imshow(example[0])\n",
        "plt.savefig('car image')"
      ],
      "metadata": {
        "id": "tdI0ioVuCV0T"
      },
      "execution_count": null,
      "outputs": []
    },
    {
      "cell_type": "code",
      "source": [
        "print(net.conv[0])\n",
        "net.conv[0].register_forward_hook(get_activation('conv1'))\n",
        "data, _ = train_data[4]\n",
        "data=data.to(device)\n",
        "data.unsqueeze_(0)\n",
        "output = net(data)\n",
        "\n",
        "k=0\n",
        "act = activation['conv1'].squeeze()\n",
        "\n",
        "fig,ax = plt.subplots(2,3,figsize=(12, 8))\n",
        "for i in range(2):\n",
        "  for j in range(3):\n",
        "    ax[i,j].imshow(act[k].detach().cpu().numpy())\n",
        "    k += 1\n",
        "\n",
        "plt.savefig('fm1.png') \n"
      ],
      "metadata": {
        "id": "hsfZQFhkAuMx"
      },
      "execution_count": null,
      "outputs": []
    },
    {
      "cell_type": "code",
      "source": [
        "print(net.conv[1])\n",
        "net.conv[1].register_forward_hook(get_activation('conv1'))\n",
        "data, _ = train_data[4]\n",
        "data=data.to(device)\n",
        "data.unsqueeze_(0)\n",
        "output = net(data)\n",
        "\n",
        "k=0\n",
        "act = activation['conv1'].squeeze()\n",
        "\n",
        "fig,ax = plt.subplots(2,3,figsize=(12, 8))\n",
        "for i in range(2):\n",
        "  for j in range(3):\n",
        "    ax[i,j].imshow(act[k].detach().cpu().numpy())\n",
        "    k += 1\n",
        "\n",
        "plt.savefig('relu1.png') "
      ],
      "metadata": {
        "id": "RjgbqoFnIb-Y"
      },
      "execution_count": null,
      "outputs": []
    },
    {
      "cell_type": "code",
      "source": [
        "print(net.conv[0])\n",
        "net.conv[3].register_forward_hook(get_activation('conv1'))\n",
        "data, _ = train_data[4]\n",
        "data=data.to(device)\n",
        "data.unsqueeze_(0)\n",
        "output = net(data)\n",
        "\n",
        "k=0\n",
        "act = activation['conv1'].squeeze()\n",
        "\n",
        "fig,ax = plt.subplots(4,4,figsize=(12, 12))\n",
        "for i in range(4):\n",
        "  for j in range(4):\n",
        "    ax[i,j].imshow(act[k].detach().cpu().numpy())\n",
        "    k += 1\n",
        "\n",
        "plt.savefig('conv2.png') "
      ],
      "metadata": {
        "id": "mWf5niagJArk"
      },
      "execution_count": null,
      "outputs": []
    },
    {
      "cell_type": "code",
      "source": [
        "print(net.conv[0])\n",
        "net.conv[4].register_forward_hook(get_activation('conv1'))\n",
        "data, _ = train_data[4]\n",
        "data=data.to(device)\n",
        "data.unsqueeze_(0)\n",
        "output = net(data)\n",
        "\n",
        "k=0\n",
        "act = activation['conv1'].squeeze()\n",
        "\n",
        "fig,ax = plt.subplots(4,4,figsize=(12, 12))\n",
        "for i in range(4):\n",
        "  for j in range(4):\n",
        "    ax[i,j].imshow(act[k].detach().cpu().numpy())\n",
        "    k += 1\n",
        "\n",
        "plt.savefig('relu2.png') "
      ],
      "metadata": {
        "id": "Sgx6Ows8Jp4-"
      },
      "execution_count": null,
      "outputs": []
    },
    {
      "cell_type": "code",
      "source": [
        "print(net.conv[0])\n",
        "# Maxpool2d\n",
        "net.conv[5].register_forward_hook(get_activation('conv1'))\n",
        "data, _ = train_data[4]\n",
        "data=data.to(device)\n",
        "data.unsqueeze_(0)\n",
        "output = net(data)\n",
        "\n",
        "k=0\n",
        "act = activation['conv1'].squeeze()\n",
        "fig,ax = plt.subplots(4,4,figsize=(12, 12))\n",
        "for i in range(4):\n",
        "  for j in range(4):\n",
        "    ax[i,j].imshow(act[k].detach().cpu().numpy())\n",
        "    k += 1\n",
        "\n",
        "plt.savefig('pool2.png') "
      ],
      "metadata": {
        "id": "YL5zf0q-J9ca"
      },
      "execution_count": null,
      "outputs": []
    },
    {
      "cell_type": "code",
      "source": [
        "print(net.conv[0])\n",
        "# linear layer\n",
        "net.conv[5].register_forward_hook(get_activation('conv1'))\n",
        "data, _ = train_data[4]\n",
        "data=data.to(device)\n",
        "data.unsqueeze_(0)\n",
        "output = net(data)\n",
        "\n",
        "k=0\n",
        "act = activation['conv1'].squeeze()\n",
        "fig,ax = plt.subplots(4,4,figsize=(12, 12))\n",
        "for i in range(4):\n",
        "  for j in range(4):\n",
        "    ax[i,j].imshow(act[k].detach().cpu().numpy())\n",
        "    k += 1\n",
        "\n",
        "plt.savefig('pool2.png') "
      ],
      "metadata": {
        "id": "37jjJpxaL71N"
      },
      "execution_count": null,
      "outputs": []
    },
    {
      "cell_type": "code",
      "source": [
        "classes = ('plane', 'car', 'bird', 'cat',\n",
        "        'deer', 'dog', 'frog', 'horse', 'ship', 'truck')\n",
        "N_CLASSES = 10\n",
        "class_correct = list(0. for i in range(N_CLASSES))\n",
        "class_total = list(0. for i in range(N_CLASSES))\n",
        "net.eval()\n",
        "#test\n",
        "total_correct = 0\n",
        "total_num = 0\n",
        "for x, label in test_iter:\n",
        "    x,label = x.to(device) ,label.to(device)\n",
        "    logits = net(x)\n",
        "    pred = logits.argmax(dim=1)\n",
        "    total_correct += torch.eq(pred,label).float().sum().item()\n",
        "    total_num += x.size(0)  #即batch_size\n",
        "      \n",
        "    c = (pred == label).squeeze()\n",
        "        \n",
        "    for i in range(len(label)):\n",
        "        _label = label[i]\n",
        "        class_correct[_label] += c[i].item()\n",
        "        class_total[_label] += 1\n",
        "        \n",
        "    acc = total_correct / total_num\n",
        "    print('acc: ',acc)\n",
        " \n",
        "    for i in range(N_CLASSES):\n",
        "        print('Accuracy of %5s : %4f %%' % (\n",
        "            classes[i], 100 * class_correct[i] / class_total[i]))"
      ],
      "metadata": {
        "id": "bLzyJREUMJsz",
        "colab": {
          "base_uri": "https://localhost:8080/"
        },
        "outputId": "355368d7-6499-4230-8f0d-58cf9f1fa586"
      },
      "execution_count": null,
      "outputs": [
        {
          "output_type": "stream",
          "name": "stdout",
          "text": [
            "acc:  0.779296875\n",
            "Accuracy of plane : 91.935484 %\n",
            "Accuracy of   car : 89.655172 %\n",
            "Accuracy of  bird : 68.750000 %\n",
            "Accuracy of   cat : 52.941176 %\n",
            "Accuracy of  deer : 67.391304 %\n",
            "Accuracy of   dog : 63.636364 %\n",
            "Accuracy of  frog : 81.250000 %\n",
            "Accuracy of horse : 80.000000 %\n",
            "Accuracy of  ship : 90.909091 %\n",
            "Accuracy of truck : 91.111111 %\n",
            "acc:  0.7783203125\n",
            "Accuracy of plane : 83.035714 %\n",
            "Accuracy of   car : 91.338583 %\n",
            "Accuracy of  bird : 63.333333 %\n",
            "Accuracy of   cat : 54.000000 %\n",
            "Accuracy of  deer : 69.072165 %\n",
            "Accuracy of   dog : 68.539326 %\n",
            "Accuracy of  frog : 85.185185 %\n",
            "Accuracy of horse : 78.431373 %\n",
            "Accuracy of  ship : 90.109890 %\n",
            "Accuracy of truck : 87.962963 %\n",
            "acc:  0.7766927083333334\n",
            "Accuracy of plane : 82.926829 %\n",
            "Accuracy of   car : 91.228070 %\n",
            "Accuracy of  bird : 63.194444 %\n",
            "Accuracy of   cat : 52.777778 %\n",
            "Accuracy of  deer : 71.779141 %\n",
            "Accuracy of   dog : 67.153285 %\n",
            "Accuracy of  frog : 86.470588 %\n",
            "Accuracy of horse : 80.794702 %\n",
            "Accuracy of  ship : 89.041096 %\n",
            "Accuracy of truck : 86.301370 %\n",
            "acc:  0.77734375\n",
            "Accuracy of plane : 84.285714 %\n",
            "Accuracy of   car : 88.596491 %\n",
            "Accuracy of  bird : 63.451777 %\n",
            "Accuracy of   cat : 55.384615 %\n",
            "Accuracy of  deer : 75.925926 %\n",
            "Accuracy of   dog : 68.817204 %\n",
            "Accuracy of  frog : 83.783784 %\n",
            "Accuracy of horse : 81.313131 %\n",
            "Accuracy of  ship : 87.864078 %\n",
            "Accuracy of truck : 84.210526 %\n",
            "acc:  0.776171875\n",
            "Accuracy of plane : 83.397683 %\n",
            "Accuracy of   car : 86.861314 %\n",
            "Accuracy of  bird : 63.909774 %\n",
            "Accuracy of   cat : 53.441296 %\n",
            "Accuracy of  deer : 77.131783 %\n",
            "Accuracy of   dog : 68.619247 %\n",
            "Accuracy of  frog : 84.435798 %\n",
            "Accuracy of horse : 83.132530 %\n",
            "Accuracy of  ship : 88.636364 %\n",
            "Accuracy of truck : 85.020243 %\n",
            "acc:  0.7701822916666666\n",
            "Accuracy of plane : 82.484076 %\n",
            "Accuracy of   car : 87.421384 %\n",
            "Accuracy of  bird : 61.755486 %\n",
            "Accuracy of   cat : 51.351351 %\n",
            "Accuracy of  deer : 76.751592 %\n",
            "Accuracy of   dog : 67.796610 %\n",
            "Accuracy of  frog : 85.148515 %\n",
            "Accuracy of horse : 82.432432 %\n",
            "Accuracy of  ship : 88.853503 %\n",
            "Accuracy of truck : 85.148515 %\n",
            "acc:  0.767578125\n",
            "Accuracy of plane : 82.065217 %\n",
            "Accuracy of   car : 88.010899 %\n",
            "Accuracy of  bird : 59.677419 %\n",
            "Accuracy of   cat : 52.380952 %\n",
            "Accuracy of  deer : 75.405405 %\n",
            "Accuracy of   dog : 67.543860 %\n",
            "Accuracy of  frog : 85.207101 %\n",
            "Accuracy of horse : 83.667622 %\n",
            "Accuracy of  ship : 89.315068 %\n",
            "Accuracy of truck : 84.550562 %\n",
            "acc:  0.766357421875\n",
            "Accuracy of plane : 80.622010 %\n",
            "Accuracy of   car : 88.235294 %\n",
            "Accuracy of  bird : 59.855769 %\n",
            "Accuracy of   cat : 52.606635 %\n",
            "Accuracy of  deer : 76.958525 %\n",
            "Accuracy of   dog : 67.098446 %\n",
            "Accuracy of  frog : 85.750636 %\n",
            "Accuracy of horse : 82.731959 %\n",
            "Accuracy of  ship : 88.861985 %\n",
            "Accuracy of truck : 84.289277 %\n",
            "acc:  0.7684461805555556\n",
            "Accuracy of plane : 80.549683 %\n",
            "Accuracy of   car : 88.110403 %\n",
            "Accuracy of  bird : 59.829060 %\n",
            "Accuracy of   cat : 53.941909 %\n",
            "Accuracy of  deer : 77.378436 %\n",
            "Accuracy of   dog : 67.276888 %\n",
            "Accuracy of  frog : 85.844749 %\n",
            "Accuracy of horse : 83.446712 %\n",
            "Accuracy of  ship : 87.898089 %\n",
            "Accuracy of truck : 85.242291 %\n",
            "acc:  0.7658203125\n",
            "Accuracy of plane : 80.492424 %\n",
            "Accuracy of   car : 88.059701 %\n",
            "Accuracy of  bird : 59.770115 %\n",
            "Accuracy of   cat : 54.477612 %\n",
            "Accuracy of  deer : 76.162791 %\n",
            "Accuracy of   dog : 66.869919 %\n",
            "Accuracy of  frog : 85.983264 %\n",
            "Accuracy of horse : 83.130081 %\n",
            "Accuracy of  ship : 87.307692 %\n",
            "Accuracy of truck : 84.800000 %\n",
            "acc:  0.7681107954545454\n",
            "Accuracy of plane : 80.869565 %\n",
            "Accuracy of   car : 88.245315 %\n",
            "Accuracy of  bird : 60.070671 %\n",
            "Accuracy of   cat : 54.965753 %\n",
            "Accuracy of  deer : 75.670841 %\n",
            "Accuracy of   dog : 66.666667 %\n",
            "Accuracy of  frog : 85.820896 %\n",
            "Accuracy of horse : 84.386617 %\n",
            "Accuracy of  ship : 87.650086 %\n",
            "Accuracy of truck : 84.517304 %\n",
            "acc:  0.7667643229166666\n",
            "Accuracy of plane : 80.511182 %\n",
            "Accuracy of   car : 87.823440 %\n",
            "Accuracy of  bird : 60.423453 %\n",
            "Accuracy of   cat : 55.254777 %\n",
            "Accuracy of  deer : 75.121951 %\n",
            "Accuracy of   dog : 66.556291 %\n",
            "Accuracy of  frog : 85.248714 %\n",
            "Accuracy of horse : 84.183673 %\n",
            "Accuracy of  ship : 87.539936 %\n",
            "Accuracy of truck : 84.245439 %\n",
            "acc:  0.7669771634615384\n",
            "Accuracy of plane : 80.825959 %\n",
            "Accuracy of   car : 88.226950 %\n",
            "Accuracy of  bird : 60.843373 %\n",
            "Accuracy of   cat : 55.228277 %\n",
            "Accuracy of  deer : 74.586466 %\n",
            "Accuracy of   dog : 67.119155 %\n",
            "Accuracy of  frog : 84.469097 %\n",
            "Accuracy of horse : 83.720930 %\n",
            "Accuracy of  ship : 87.500000 %\n",
            "Accuracy of truck : 84.674923 %\n",
            "acc:  0.7672991071428571\n",
            "Accuracy of plane : 81.578947 %\n",
            "Accuracy of   car : 87.882823 %\n",
            "Accuracy of  bird : 60.471567 %\n",
            "Accuracy of   cat : 56.010929 %\n",
            "Accuracy of  deer : 74.552957 %\n",
            "Accuracy of   dog : 66.056338 %\n",
            "Accuracy of  frog : 85.131195 %\n",
            "Accuracy of horse : 83.623188 %\n",
            "Accuracy of  ship : 87.448276 %\n",
            "Accuracy of truck : 85.085227 %\n",
            "acc:  0.767578125\n",
            "Accuracy of plane : 81.699346 %\n",
            "Accuracy of   car : 87.531172 %\n",
            "Accuracy of  bird : 60.875161 %\n",
            "Accuracy of   cat : 56.797967 %\n",
            "Accuracy of  deer : 74.711168 %\n",
            "Accuracy of   dog : 65.778961 %\n",
            "Accuracy of  frog : 84.897959 %\n",
            "Accuracy of horse : 83.730159 %\n",
            "Accuracy of  ship : 87.434555 %\n",
            "Accuracy of truck : 84.685864 %\n",
            "acc:  0.76953125\n",
            "Accuracy of plane : 81.807082 %\n",
            "Accuracy of   car : 87.500000 %\n",
            "Accuracy of  bird : 61.426844 %\n",
            "Accuracy of   cat : 56.354916 %\n",
            "Accuracy of  deer : 74.787879 %\n",
            "Accuracy of   dog : 66.417910 %\n",
            "Accuracy of  frog : 85.087719 %\n",
            "Accuracy of horse : 84.099379 %\n",
            "Accuracy of  ship : 87.849332 %\n",
            "Accuracy of truck : 84.606061 %\n",
            "acc:  0.7699908088235294\n",
            "Accuracy of plane : 81.693364 %\n",
            "Accuracy of   car : 87.713311 %\n",
            "Accuracy of  bird : 61.117446 %\n",
            "Accuracy of   cat : 56.738392 %\n",
            "Accuracy of  deer : 74.857793 %\n",
            "Accuracy of   dog : 66.471963 %\n",
            "Accuracy of  frog : 85.276796 %\n",
            "Accuracy of horse : 84.252874 %\n",
            "Accuracy of  ship : 88.059701 %\n",
            "Accuracy of truck : 84.180139 %\n",
            "acc:  0.7700737847222222\n",
            "Accuracy of plane : 81.493506 %\n",
            "Accuracy of   car : 87.820513 %\n",
            "Accuracy of  bird : 61.147186 %\n",
            "Accuracy of   cat : 56.616052 %\n",
            "Accuracy of  deer : 75.000000 %\n",
            "Accuracy of   dog : 66.037736 %\n",
            "Accuracy of  frog : 85.544768 %\n",
            "Accuracy of horse : 84.279476 %\n",
            "Accuracy of  ship : 88.222465 %\n",
            "Accuracy of truck : 83.642312 %\n",
            "acc:  0.7713815789473685\n",
            "Accuracy of plane : 81.307457 %\n",
            "Accuracy of   car : 88.132095 %\n",
            "Accuracy of  bird : 61.538462 %\n",
            "Accuracy of   cat : 57.113402 %\n",
            "Accuracy of  deer : 74.845996 %\n",
            "Accuracy of   dog : 66.077003 %\n",
            "Accuracy of  frog : 85.963115 %\n",
            "Accuracy of horse : 84.496920 %\n",
            "Accuracy of  ship : 88.139059 %\n",
            "Accuracy of truck : 83.539095 %\n",
            "acc:  0.7703\n",
            "Accuracy of plane : 81.100000 %\n",
            "Accuracy of   car : 88.300000 %\n",
            "Accuracy of  bird : 61.700000 %\n",
            "Accuracy of   cat : 57.000000 %\n",
            "Accuracy of  deer : 74.700000 %\n",
            "Accuracy of   dog : 65.500000 %\n",
            "Accuracy of  frog : 85.700000 %\n",
            "Accuracy of horse : 84.800000 %\n",
            "Accuracy of  ship : 88.200000 %\n",
            "Accuracy of truck : 83.300000 %\n"
          ]
        }
      ]
    }
  ]
}