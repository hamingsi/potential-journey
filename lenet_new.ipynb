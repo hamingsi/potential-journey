{
  "cells": [
    {
      "cell_type": "markdown",
      "metadata": {
        "id": "view-in-github",
        "colab_type": "text"
      },
      "source": [
        "<a href=\"https://colab.research.google.com/github/hamingsi/potential-journey/blob/main/lenet_new.ipynb\" target=\"_parent\"><img src=\"https://colab.research.google.com/assets/colab-badge.svg\" alt=\"Open In Colab\"/></a>"
      ]
    },
    {
      "cell_type": "code",
      "execution_count": null,
      "metadata": {
        "id": "M377tQVeBm6G"
      },
      "outputs": [],
      "source": [
        "import time\n",
        "import torch\n",
        "from torch import nn, optim\n",
        "import torch.nn.functional as F\n",
        "import torchvision\n",
        "import torchvision.transforms as transforms\n",
        "import sys\n",
        "sys.path.append(\"..\") \n",
        "device = torch.device('cuda' if torch.cuda.is_available() else 'cpu')\n",
        "class LeNet(nn.Module):\n",
        "    def __init__(self):\n",
        "        super(LeNet, self).__init__()\n",
        "        self.conv = nn.Sequential(\n",
        "            nn.Conv2d(3, 32, 3), # in_channels, out_channels, kernel_size\n",
        "            nn.ReLU(),\n",
        "            nn.Conv2d(32, 32, 3),\n",
        "            nn.ReLU(),\n",
        "            nn.MaxPool2d(2, 2),\n",
        "            nn.Dropout(p=0.2),\n",
        "            nn.Conv2d(32, 64, 3),\n",
        "            nn.ReLU(),\n",
        "            nn.Conv2d(64, 64, 3),\n",
        "            nn.ReLU(),\n",
        "            nn.MaxPool2d(2, 2),\n",
        "            nn.Dropout(p=0.2),\n",
        "            nn.Conv2d(64, 128, 3),\n",
        "            nn.ReLU(),\n",
        "            nn.Conv2d(128, 128, 2),\n",
        "            nn.ReLU(),\n",
        "            nn.MaxPool2d(2, 2), # kernel_size, stride\n",
        "            nn.Dropout(p=0.2)\n",
        "        )\n",
        "        self.fc = nn.Sequential(\n",
        "            nn.Linear(128, 128),\n",
        "            nn.ReLU(),\n",
        "            nn.Linear(128, 84),\n",
        "            nn.ReLU(),\n",
        "            nn.Dropout(p=0.3),\n",
        "            nn.Linear(84, 10)\n",
        "        )\n",
        "\n",
        "    def forward(self, img):\n",
        "        feature = self.conv(img)\n",
        "        output = self.fc(feature.view(img.shape[0], -1))\n",
        "        return output"
      ]
    },
    {
      "cell_type": "code",
      "execution_count": null,
      "metadata": {
        "colab": {
          "base_uri": "https://localhost:8080/"
        },
        "id": "XoI2XrKpBs3Q",
        "outputId": "254e7cd9-7a15-44dd-ffca-810a287f711c"
      },
      "outputs": [
        {
          "output_type": "stream",
          "name": "stdout",
          "text": [
            "LeNet(\n",
            "  (conv): Sequential(\n",
            "    (0): Conv2d(3, 32, kernel_size=(3, 3), stride=(1, 1))\n",
            "    (1): ReLU()\n",
            "    (2): Conv2d(32, 32, kernel_size=(3, 3), stride=(1, 1))\n",
            "    (3): ReLU()\n",
            "    (4): MaxPool2d(kernel_size=2, stride=2, padding=0, dilation=1, ceil_mode=False)\n",
            "    (5): Dropout(p=0.2, inplace=False)\n",
            "    (6): Conv2d(32, 64, kernel_size=(3, 3), stride=(1, 1))\n",
            "    (7): ReLU()\n",
            "    (8): Conv2d(64, 64, kernel_size=(3, 3), stride=(1, 1))\n",
            "    (9): ReLU()\n",
            "    (10): MaxPool2d(kernel_size=2, stride=2, padding=0, dilation=1, ceil_mode=False)\n",
            "    (11): Dropout(p=0.2, inplace=False)\n",
            "    (12): Conv2d(64, 128, kernel_size=(3, 3), stride=(1, 1))\n",
            "    (13): ReLU()\n",
            "    (14): Conv2d(128, 128, kernel_size=(2, 2), stride=(1, 1))\n",
            "    (15): ReLU()\n",
            "    (16): MaxPool2d(kernel_size=2, stride=2, padding=0, dilation=1, ceil_mode=False)\n",
            "    (17): Dropout(p=0.2, inplace=False)\n",
            "  )\n",
            "  (fc): Sequential(\n",
            "    (0): Linear(in_features=128, out_features=128, bias=True)\n",
            "    (1): ReLU()\n",
            "    (2): Linear(in_features=128, out_features=84, bias=True)\n",
            "    (3): ReLU()\n",
            "    (4): Dropout(p=0.3, inplace=False)\n",
            "    (5): Linear(in_features=84, out_features=10, bias=True)\n",
            "  )\n",
            ")\n"
          ]
        }
      ],
      "source": [
        "net = LeNet()\n",
        "print(net)"
      ]
    },
    {
      "cell_type": "code",
      "execution_count": null,
      "metadata": {
        "colab": {
          "base_uri": "https://localhost:8080/"
        },
        "id": "jNDPYGi6BuL0",
        "outputId": "3a56597b-2e73-4b57-b9c8-cc20f740ee3e"
      },
      "outputs": [
        {
          "output_type": "stream",
          "name": "stdout",
          "text": [
            "Files already downloaded and verified\n",
            "Files already downloaded and verified\n"
          ]
        }
      ],
      "source": [
        "transform = transforms.Compose([\n",
        "    transforms.ToTensor(),\n",
        "    transforms.Normalize((0.5, 0.5, 0.5), (0.5, 0.5, 0.5))\n",
        "])\n",
        "# 数据自动下载链接，并保存到本地\n",
        "train_data = torchvision.datasets.CIFAR10(root='./data/CIFAR10', train=True,\n",
        "                                          download=True, transform=transform)\n",
        "test_data = torchvision.datasets.CIFAR10(root='./data/CIFAR10', train=False,\n",
        "                                         download=True, transform=transform)\n",
        "\n",
        "K = 5000\n",
        "\n",
        "# train_data.data = train_data.data[:K]\n",
        "# train_data.targets = train_data.targets[:K]\n",
        "# test_data.data = test_data.data[:K]\n",
        "# test_data.targets = test_data.targets[:K]"
      ]
    },
    {
      "cell_type": "code",
      "execution_count": null,
      "metadata": {
        "id": "UhoAtyzGBvP7"
      },
      "outputs": [],
      "source": [
        "batch_size = 512\n",
        "train_iter = torch.utils.data.DataLoader(train_data, batch_size=batch_size, shuffle=True)\n",
        "test_iter = torch.utils.data.DataLoader(test_data, batch_size=batch_size, shuffle=True)"
      ]
    },
    {
      "cell_type": "code",
      "execution_count": null,
      "metadata": {
        "id": "vQK1doXrBwcn"
      },
      "outputs": [],
      "source": [
        "# 本函数已保存在d2lzh_pytorch包中方便以后使用。该函数将被逐步改进。\n",
        "def evaluate_accuracy(data_iter, net, device=None):\n",
        "    if device is None and isinstance(net, torch.nn.Module):\n",
        "        # 如果没指定device就使用net的device\n",
        "        device = list(net.parameters())[0].device\n",
        "    acc_sum, n = 0.0, 0\n",
        "    with torch.no_grad():\n",
        "        for X, y in data_iter:\n",
        "            if isinstance(net, torch.nn.Module):\n",
        "                net.eval() # 评估模式, 这会关闭dropout\n",
        "                acc_sum += (net(X.to(device)).argmax(dim=1) == y.to(device)).float().sum().cpu().item()\n",
        "                net.train() # 改回训练模式\n",
        "            else: # 自定义的模型, 3.13节之后不会用到, 不考虑GPU\n",
        "                if('is_training' in net.__code__.co_varnames): # 如果有is_training这个参数\n",
        "                    # 将is_training设置成False\n",
        "                    acc_sum += (net(X, is_training=False).argmax(dim=1) == y).float().sum().item() \n",
        "                else:\n",
        "                    acc_sum += (net(X).argmax(dim=1) == y).float().sum().item() \n",
        "            n += y.shape[0]\n",
        "    return acc_sum / n"
      ]
    },
    {
      "cell_type": "code",
      "execution_count": null,
      "metadata": {
        "id": "1O9i0ubyBxnU"
      },
      "outputs": [],
      "source": [
        "# 本函数已保存在d2lzh_pytorch包中方便以后使用\n",
        "def train_ch5(net, train_iter, test_iter, batch_size, optimizer, device, num_epochs):\n",
        "    net = net.to(device)\n",
        "    print(\"training on \", device)\n",
        "    loss = torch.nn.CrossEntropyLoss()\n",
        "    loss_all, train_acc_all, test_acc_all = [], [], []\n",
        "    for epoch in range(num_epochs):\n",
        "        train_l_sum, train_acc_sum, n, batch_count, start = 0.0, 0.0, 0, 0, time.time()\n",
        "        for X, y in train_iter:\n",
        "            X = X.to(device)\n",
        "            y = y.to(device)\n",
        "            y_hat = net(X)\n",
        "            l = loss(y_hat, y)\n",
        "            optimizer.zero_grad()\n",
        "            l.backward()\n",
        "            optimizer.step()\n",
        "            train_l_sum += l.cpu().item()\n",
        "            train_acc_sum += (y_hat.argmax(dim=1) == y).sum().cpu().item()\n",
        "            n += y.shape[0]\n",
        "            batch_count += 1\n",
        "        test_acc = evaluate_accuracy(test_iter, net)\n",
        "        loss_all.append(train_l_sum / batch_count)\n",
        "        train_acc_all.append(train_acc_sum / n)\n",
        "        test_acc_all.append(test_acc)\n",
        "        print('epoch %d, loss %.4f, train acc %.3f, test acc %.3f, time %.1f sec'\n",
        "              % (epoch + 1, train_l_sum / batch_count, train_acc_sum / n, test_acc, time.time() - start))\n",
        "    return loss_all, train_acc_all, test_acc_all"
      ]
    },
    {
      "cell_type": "code",
      "execution_count": null,
      "metadata": {
        "colab": {
          "base_uri": "https://localhost:8080/"
        },
        "id": "U9TBrdx9By-t",
        "outputId": "2223a47d-f99a-452b-fa92-f4ceb88c491e"
      },
      "outputs": [
        {
          "output_type": "stream",
          "name": "stdout",
          "text": [
            "training on  cuda\n",
            "epoch 1, loss 2.0581, train acc 0.218, test acc 0.332, time 15.7 sec\n",
            "epoch 2, loss 1.7637, train acc 0.341, test acc 0.409, time 15.2 sec\n",
            "epoch 3, loss 1.6040, train acc 0.411, test acc 0.456, time 15.3 sec\n",
            "epoch 4, loss 1.4688, train acc 0.462, test acc 0.508, time 15.2 sec\n",
            "epoch 5, loss 1.3834, train acc 0.499, test acc 0.539, time 15.5 sec\n",
            "epoch 6, loss 1.3114, train acc 0.527, test acc 0.570, time 15.4 sec\n",
            "epoch 7, loss 1.2426, train acc 0.555, test acc 0.583, time 15.5 sec\n",
            "epoch 8, loss 1.1807, train acc 0.581, test acc 0.604, time 15.2 sec\n",
            "epoch 9, loss 1.1279, train acc 0.601, test acc 0.616, time 15.4 sec\n",
            "epoch 10, loss 1.0848, train acc 0.617, test acc 0.631, time 15.9 sec\n",
            "epoch 11, loss 1.0472, train acc 0.633, test acc 0.652, time 15.5 sec\n",
            "epoch 12, loss 1.0059, train acc 0.648, test acc 0.666, time 15.3 sec\n",
            "epoch 13, loss 0.9747, train acc 0.658, test acc 0.669, time 15.4 sec\n",
            "epoch 14, loss 0.9442, train acc 0.667, test acc 0.680, time 15.4 sec\n",
            "epoch 15, loss 0.9082, train acc 0.684, test acc 0.691, time 15.4 sec\n",
            "epoch 16, loss 0.8797, train acc 0.696, test acc 0.699, time 15.2 sec\n",
            "epoch 17, loss 0.8444, train acc 0.707, test acc 0.710, time 15.3 sec\n",
            "epoch 18, loss 0.8247, train acc 0.714, test acc 0.723, time 15.5 sec\n",
            "epoch 19, loss 0.7923, train acc 0.728, test acc 0.729, time 15.3 sec\n",
            "epoch 20, loss 0.7653, train acc 0.735, test acc 0.740, time 15.4 sec\n",
            "epoch 21, loss 0.7407, train acc 0.745, test acc 0.742, time 15.7 sec\n",
            "epoch 22, loss 0.7405, train acc 0.747, test acc 0.744, time 15.4 sec\n",
            "epoch 23, loss 0.7114, train acc 0.755, test acc 0.746, time 15.3 sec\n",
            "epoch 24, loss 0.6943, train acc 0.761, test acc 0.754, time 15.9 sec\n",
            "epoch 25, loss 0.6717, train acc 0.769, test acc 0.752, time 15.6 sec\n",
            "epoch 26, loss 0.6540, train acc 0.776, test acc 0.761, time 15.7 sec\n",
            "epoch 27, loss 0.6395, train acc 0.781, test acc 0.759, time 15.3 sec\n",
            "epoch 28, loss 0.6268, train acc 0.783, test acc 0.762, time 15.3 sec\n",
            "epoch 29, loss 0.6074, train acc 0.790, test acc 0.774, time 15.4 sec\n",
            "epoch 30, loss 0.5995, train acc 0.795, test acc 0.765, time 15.5 sec\n",
            "epoch 31, loss 0.5926, train acc 0.798, test acc 0.766, time 15.5 sec\n",
            "epoch 32, loss 0.5726, train acc 0.802, test acc 0.772, time 15.2 sec\n",
            "epoch 33, loss 0.5633, train acc 0.808, test acc 0.779, time 15.2 sec\n",
            "epoch 34, loss 0.5549, train acc 0.811, test acc 0.771, time 15.2 sec\n",
            "epoch 35, loss 0.5538, train acc 0.810, test acc 0.779, time 15.4 sec\n",
            "epoch 36, loss 0.5368, train acc 0.815, test acc 0.780, time 15.4 sec\n",
            "epoch 37, loss 0.5281, train acc 0.819, test acc 0.782, time 15.4 sec\n",
            "epoch 38, loss 0.5143, train acc 0.823, test acc 0.778, time 15.9 sec\n",
            "epoch 39, loss 0.5103, train acc 0.824, test acc 0.780, time 15.3 sec\n",
            "epoch 40, loss 0.4992, train acc 0.830, test acc 0.778, time 15.3 sec\n",
            "epoch 41, loss 0.5046, train acc 0.826, test acc 0.780, time 15.4 sec\n",
            "epoch 42, loss 0.4966, train acc 0.828, test acc 0.784, time 15.3 sec\n",
            "epoch 43, loss 0.4814, train acc 0.836, test acc 0.788, time 15.2 sec\n",
            "epoch 44, loss 0.4695, train acc 0.839, test acc 0.784, time 15.4 sec\n",
            "epoch 45, loss 0.4678, train acc 0.840, test acc 0.786, time 15.5 sec\n",
            "epoch 46, loss 0.4687, train acc 0.838, test acc 0.789, time 15.6 sec\n",
            "epoch 47, loss 0.4582, train acc 0.843, test acc 0.787, time 15.3 sec\n",
            "epoch 48, loss 0.4481, train acc 0.846, test acc 0.786, time 15.2 sec\n",
            "epoch 49, loss 0.4462, train acc 0.848, test acc 0.790, time 15.4 sec\n",
            "epoch 50, loss 0.4398, train acc 0.848, test acc 0.791, time 15.2 sec\n",
            "epoch 51, loss 0.4277, train acc 0.852, test acc 0.791, time 15.6 sec\n",
            "epoch 52, loss 0.4308, train acc 0.852, test acc 0.790, time 16.0 sec\n",
            "epoch 53, loss 0.4262, train acc 0.853, test acc 0.793, time 15.2 sec\n",
            "epoch 54, loss 0.4247, train acc 0.852, test acc 0.790, time 15.4 sec\n",
            "epoch 55, loss 0.4167, train acc 0.857, test acc 0.793, time 15.2 sec\n",
            "epoch 56, loss 0.4174, train acc 0.856, test acc 0.789, time 15.3 sec\n",
            "epoch 57, loss 0.4093, train acc 0.858, test acc 0.785, time 15.5 sec\n",
            "epoch 58, loss 0.4070, train acc 0.859, test acc 0.798, time 15.3 sec\n",
            "epoch 59, loss 0.4012, train acc 0.862, test acc 0.796, time 15.3 sec\n",
            "epoch 60, loss 0.3998, train acc 0.862, test acc 0.792, time 15.2 sec\n",
            "epoch 61, loss 0.3922, train acc 0.865, test acc 0.795, time 15.2 sec\n",
            "epoch 62, loss 0.3878, train acc 0.865, test acc 0.789, time 15.4 sec\n",
            "epoch 63, loss 0.3847, train acc 0.867, test acc 0.792, time 15.3 sec\n",
            "epoch 64, loss 0.3808, train acc 0.868, test acc 0.795, time 15.1 sec\n",
            "epoch 65, loss 0.3812, train acc 0.869, test acc 0.790, time 15.2 sec\n",
            "epoch 66, loss 0.3775, train acc 0.870, test acc 0.798, time 15.2 sec\n",
            "epoch 67, loss 0.3694, train acc 0.872, test acc 0.796, time 16.1 sec\n",
            "epoch 68, loss 0.3733, train acc 0.871, test acc 0.798, time 15.5 sec\n",
            "epoch 69, loss 0.3676, train acc 0.873, test acc 0.801, time 15.6 sec\n",
            "epoch 70, loss 0.3686, train acc 0.870, test acc 0.796, time 15.5 sec\n",
            "epoch 71, loss 0.3581, train acc 0.875, test acc 0.794, time 15.7 sec\n",
            "epoch 72, loss 0.3626, train acc 0.874, test acc 0.794, time 15.2 sec\n",
            "epoch 73, loss 0.3585, train acc 0.876, test acc 0.790, time 15.2 sec\n",
            "epoch 74, loss 0.3607, train acc 0.874, test acc 0.797, time 15.4 sec\n",
            "epoch 75, loss 0.3506, train acc 0.879, test acc 0.799, time 15.3 sec\n",
            "epoch 76, loss 0.3428, train acc 0.881, test acc 0.797, time 15.3 sec\n",
            "epoch 77, loss 0.3511, train acc 0.880, test acc 0.793, time 15.4 sec\n",
            "epoch 78, loss 0.3401, train acc 0.881, test acc 0.799, time 15.4 sec\n",
            "epoch 79, loss 0.3411, train acc 0.881, test acc 0.795, time 15.4 sec\n",
            "epoch 80, loss 0.3474, train acc 0.879, test acc 0.799, time 15.4 sec\n",
            "epoch 81, loss 0.3374, train acc 0.884, test acc 0.800, time 15.8 sec\n",
            "epoch 82, loss 0.3320, train acc 0.886, test acc 0.797, time 15.2 sec\n",
            "epoch 83, loss 0.3308, train acc 0.886, test acc 0.802, time 15.2 sec\n",
            "epoch 84, loss 0.3271, train acc 0.885, test acc 0.796, time 15.3 sec\n",
            "epoch 85, loss 0.3346, train acc 0.884, test acc 0.795, time 15.2 sec\n",
            "epoch 86, loss 0.3225, train acc 0.889, test acc 0.795, time 15.3 sec\n",
            "epoch 87, loss 0.3222, train acc 0.889, test acc 0.793, time 15.1 sec\n",
            "epoch 88, loss 0.3220, train acc 0.886, test acc 0.797, time 15.4 sec\n",
            "epoch 89, loss 0.3243, train acc 0.887, test acc 0.799, time 15.1 sec\n",
            "epoch 90, loss 0.3171, train acc 0.890, test acc 0.798, time 15.3 sec\n",
            "epoch 91, loss 0.3167, train acc 0.889, test acc 0.794, time 15.2 sec\n",
            "epoch 92, loss 0.3228, train acc 0.887, test acc 0.798, time 15.2 sec\n",
            "epoch 93, loss 0.3121, train acc 0.892, test acc 0.799, time 15.1 sec\n",
            "epoch 94, loss 0.3134, train acc 0.892, test acc 0.799, time 15.2 sec\n",
            "epoch 95, loss 0.3079, train acc 0.893, test acc 0.801, time 15.8 sec\n",
            "epoch 96, loss 0.3132, train acc 0.891, test acc 0.801, time 15.3 sec\n",
            "epoch 97, loss 0.3041, train acc 0.894, test acc 0.800, time 15.1 sec\n",
            "epoch 98, loss 0.3053, train acc 0.894, test acc 0.801, time 15.1 sec\n",
            "epoch 99, loss 0.2984, train acc 0.895, test acc 0.803, time 15.2 sec\n",
            "epoch 100, loss 0.3037, train acc 0.894, test acc 0.798, time 15.3 sec\n"
          ]
        }
      ],
      "source": [
        "lr = 0.001\n",
        "optimizer = torch.optim.Adam(net.parameters(), lr=lr)\n",
        "epoch = [5, 10, 20, 50, 100]\n",
        "# for i in range(5):\n",
        "#   net = LeNet()\n",
        "#   num_epochs = epoch[i]\n",
        "num_epochs = 100\n",
        "loss_all, train_acc_all, test_acc_all = train_ch5(net, train_iter, test_iter, batch_size, optimizer, device, num_epochs)\n",
        "#   loss_all.append(loss)\n",
        "#   train_acc_all.append(train_acc)\n",
        "#   test_acc_all.append(test_acc)"
      ]
    },
    {
      "cell_type": "code",
      "execution_count": null,
      "metadata": {
        "id": "d5sm-ue8BZAS",
        "colab": {
          "base_uri": "https://localhost:8080/",
          "height": 283
        },
        "outputId": "299a5414-029f-4ade-a024-53fb6af0a4e9"
      },
      "outputs": [
        {
          "output_type": "stream",
          "name": "stdout",
          "text": [
            "Mounted at /content/drive\n"
          ]
        },
        {
          "output_type": "display_data",
          "data": {
            "text/plain": [
              "<Figure size 432x288 with 1 Axes>"
            ],
            "image/png": "[encoded data removed]"
          },
          "metadata": {
            "needs_background": "light"
          }
        }
      ],
      "source": [
        "import numpy as np\n",
        "import matplotlib.pyplot as plt\n",
        "\n",
        "from google.colab import drive\n",
        "drive.mount('/content/drive')\n",
        " \n",
        "import os\n",
        "os.chdir('/content/drive/My Drive')\n",
        "\n",
        "\n",
        "fig = plt.figure()\n",
        "loss_all, train_acc_all, test_acc_all\n",
        "plt.plot(train_acc_all, label='train accuracy')\n",
        "plt.plot(test_acc_all, label='test accuracy')\n",
        "plt.legend(loc='lower right')\n",
        "\n",
        "plt.savefig(\"picture/accuracy.png\", dpi=100)\n",
        "plt.show()\n"
      ]
    },
    {
      "cell_type": "code",
      "execution_count": null,
      "metadata": {
        "id": "hwmn_SfKHR5U"
      },
      "outputs": [],
      "source": []
    }
  ],
  "metadata": {
    "accelerator": "GPU",
    "colab": {
      "provenance": [],
      "collapsed_sections": [],
      "authorship_tag": "ABX9TyP3mDi/rAdigOoyKg75UG4O",
      "include_colab_link": true
    },
    "gpuClass": "standard",
    "kernelspec": {
      "display_name": "Python 3",
      "name": "python3"
    },
    "language_info": {
      "name": "python"
    }
  },
  "nbformat": 4,
  "nbformat_minor": 0
}