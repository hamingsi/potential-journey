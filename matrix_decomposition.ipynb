{
  "nbformat": 4,
  "nbformat_minor": 0,
  "metadata": {
    "colab": {
      "provenance": [],
      "authorship_tag": "ABX9TyNcBecEOTFwXpzSHX20nOd1",
      "include_colab_link": true
    },
    "kernelspec": {
      "name": "python3",
      "display_name": "Python 3"
    },
    "language_info": {
      "name": "python"
    },
    "accelerator": "TPU",
    "gpuClass": "standard"
  },
  "cells": [
    {
      "cell_type": "markdown",
      "metadata": {
        "id": "view-in-github",
        "colab_type": "text"
      },
      "source": [
        "<a href=\"https://colab.research.google.com/github/hamingsi/potential-journey/blob/main/matrix_decomposition.ipynb\" target=\"_parent\"><img src=\"https://colab.research.google.com/assets/colab-badge.svg\" alt=\"Open In Colab\"/></a>"
      ]
    },
    {
      "cell_type": "code",
      "execution_count": 57,
      "metadata": {
        "id": "9D8LF6uLA71c",
        "colab": {
          "base_uri": "https://localhost:8080/"
        },
        "outputId": "4c0c7739-6171-4b79-9dac-a88250dcf671"
      },
      "outputs": [
        {
          "output_type": "stream",
          "name": "stdout",
          "text": [
            "800167\n",
            "100021\n",
            "100021\n"
          ]
        }
      ],
      "source": [
        "import numpy as np\n",
        "from keras import Model\n",
        "import keras.backend as K\n",
        "from keras.layers import Embedding,Reshape,Input,Dot\n",
        "from sklearn.model_selection import train_test_split\n",
        "\n",
        "\n",
        "\n",
        "data = np.loadtxt('ratings.dat', encoding='utf-8',dtype=np.uint32,delimiter=\"::\")\n",
        "\n",
        "x_train,x_test,y_train,y_test = train_test_split(data[:,:2],data[:,2], random_state=42, test_size=0.2)\n",
        "\n",
        "x_test,x_val,y_test,y_val = train_test_split(x_test,y_test, random_state=42, test_size=0.5)\n",
        "\n",
        "print(len(x_train))\n",
        "print(len(x_test))\n",
        "print(len(x_val))\n",
        "\n",
        "users = 6040\n",
        "movies = 3952"
      ]
    },
    {
      "cell_type": "code",
      "source": [
        "def Recmand_model(num_user, num_movie, k):\n",
        "    # 将输入映射为向量\n",
        "    # expected input[None,] None means not known the shape\n",
        "    input_usr = Input(shape=[None,],dtype=\"int32\")\n",
        "    # Embedding(input_dim, output_dim) output=input_length*k weight=(num_user+1)*k\n",
        "    # 输入值相当于索引 输出值为对应权重\n",
        "    # P matrix 把输入的值编码为k维向量\n",
        "    model_usr = Embedding(num_user+1, k, input_length=1)(input_usr)\n",
        "    model_usr = Reshape((k,))(model_usr)\n",
        "\n",
        "    input_movie = Input(shape=[None,],dtype=\"int32\")\n",
        "    # Q matrix\n",
        "    model_movie = Embedding(num_movie+1, k, input_length=1)(input_movie)\n",
        "    model_movie = Reshape((k,))(model_movie)\n",
        "    # P[i]*Q[i]\n",
        "    out = Dot(1)([model_usr,model_movie])\n",
        "    # 需要保证之后调用Model的输入与这个[,]格式相同\n",
        "    model = Model(inputs=[input_usr,input_movie], outputs=out)\n",
        "    model.compile(loss='mse',optimizer='Adam') # 使用MSE作为损失函数 Adam作为优化器\n",
        "    model.summary()\n",
        "    return model"
      ],
      "metadata": {
        "id": "M9pTXsBTBEn5"
      },
      "execution_count": 58,
      "outputs": []
    },
    {
      "cell_type": "code",
      "source": [
        "model = Recmand_model(users,movies,100)"
      ],
      "metadata": {
        "colab": {
          "base_uri": "https://localhost:8080/"
        },
        "id": "mR51jZVJBdUh",
        "outputId": "bb35232c-6adb-4c8a-af92-82594fd5a2eb"
      },
      "execution_count": 59,
      "outputs": [
        {
          "output_type": "stream",
          "name": "stdout",
          "text": [
            "Model: \"model_5\"\n",
            "__________________________________________________________________________________________________\n",
            " Layer (type)                   Output Shape         Param #     Connected to                     \n",
            "==================================================================================================\n",
            " input_11 (InputLayer)          [(None, None)]       0           []                               \n",
            "                                                                                                  \n",
            " input_12 (InputLayer)          [(None, None)]       0           []                               \n",
            "                                                                                                  \n",
            " embedding_10 (Embedding)       (None, None, 100)    604100      ['input_11[0][0]']               \n",
            "                                                                                                  \n",
            " embedding_11 (Embedding)       (None, None, 100)    395300      ['input_12[0][0]']               \n",
            "                                                                                                  \n",
            " reshape_10 (Reshape)           (None, 100)          0           ['embedding_10[0][0]']           \n",
            "                                                                                                  \n",
            " reshape_11 (Reshape)           (None, 100)          0           ['embedding_11[0][0]']           \n",
            "                                                                                                  \n",
            " dot_5 (Dot)                    (None, 1)            0           ['reshape_10[0][0]',             \n",
            "                                                                  'reshape_11[0][0]']             \n",
            "                                                                                                  \n",
            "==================================================================================================\n",
            "Total params: 999,400\n",
            "Trainable params: 999,400\n",
            "Non-trainable params: 0\n",
            "__________________________________________________________________________________________________\n"
          ]
        }
      ]
    },
    {
      "cell_type": "code",
      "source": [
        "train_x = [x_train[:,0],x_train[:,1]]\n",
        "test_x = [x_test[:,0],x_test[:,1]]\n",
        "val_x = [x_val[:,0],x_val[:,1]]"
      ],
      "metadata": {
        "id": "xkA1Vy1INSza"
      },
      "execution_count": 60,
      "outputs": []
    },
    {
      "cell_type": "code",
      "source": [
        "model.fit(train_x,y_train,batch_size = 100,validation_data=(val_x, y_val),epochs =10)"
      ],
      "metadata": {
        "colab": {
          "base_uri": "https://localhost:8080/"
        },
        "id": "mM9Me4XCBjfZ",
        "outputId": "8b24dc0d-dc81-40e8-8336-808b001228fd"
      },
      "execution_count": 55,
      "outputs": [
        {
          "metadata": {
            "tags": null
          },
          "name": "stdout",
          "output_type": "stream",
          "text": [
            "Epoch 1/10\n"
          ]
        },
        {
          "metadata": {
            "tags": null
          },
          "name": "stderr",
          "output_type": "stream",
          "text": [
            "WARNING:tensorflow:Model was constructed with shape (None, None) for input KerasTensor(type_spec=TensorSpec(shape=(None, None), dtype=tf.int32, name='input_9'), name='input_9', description=\"created by layer 'input_9'\"), but it was called on an input with incompatible shape (None,).\n",
            "WARNING:tensorflow:Model was constructed with shape (None, None) for input KerasTensor(type_spec=TensorSpec(shape=(None, None), dtype=tf.int32, name='input_10'), name='input_10', description=\"created by layer 'input_10'\"), but it was called on an input with incompatible shape (None,).\n",
            "WARNING:tensorflow:Model was constructed with shape (None, None) for input KerasTensor(type_spec=TensorSpec(shape=(None, None), dtype=tf.int32, name='input_9'), name='input_9', description=\"created by layer 'input_9'\"), but it was called on an input with incompatible shape (None,).\n",
            "WARNING:tensorflow:Model was constructed with shape (None, None) for input KerasTensor(type_spec=TensorSpec(shape=(None, None), dtype=tf.int32, name='input_10'), name='input_10', description=\"created by layer 'input_10'\"), but it was called on an input with incompatible shape (None,).\n"
          ]
        },
        {
          "output_type": "stream",
          "name": "stdout",
          "text": [
            "8000/8002 [============================>.] - ETA: 0s - loss: 3.0297"
          ]
        },
        {
          "output_type": "stream",
          "name": "stderr",
          "text": [
            "WARNING:tensorflow:Model was constructed with shape (None, None) for input KerasTensor(type_spec=TensorSpec(shape=(None, None), dtype=tf.int32, name='input_9'), name='input_9', description=\"created by layer 'input_9'\"), but it was called on an input with incompatible shape (None,).\n",
            "WARNING:tensorflow:Model was constructed with shape (None, None) for input KerasTensor(type_spec=TensorSpec(shape=(None, None), dtype=tf.int32, name='input_10'), name='input_10', description=\"created by layer 'input_10'\"), but it was called on an input with incompatible shape (None,).\n"
          ]
        },
        {
          "output_type": "stream",
          "name": "stdout",
          "text": [
            "\b\b\b\b\b\b\b\b\b\b\b\b\b\b\b\b\b\b\b\b\b\b\b\b\b\b\b\b\b\b\b\b\b\b\b\b\b\b\b\b\b\b\b\b\b\b\b\b\b\b\b\b\b\b\b\b\b\b\b\b\b\b\b\b\b\b\b\r8002/8002 [==============================] - 128s 16ms/step - loss: 3.0292 - val_loss: 0.8965\n",
            "Epoch 2/10\n",
            "8002/8002 [==============================] - 125s 16ms/step - loss: 0.8165 - val_loss: 0.8271\n",
            "Epoch 3/10\n",
            "8002/8002 [==============================] - 120s 15ms/step - loss: 0.7140 - val_loss: 0.8019\n",
            "Epoch 4/10\n",
            "8002/8002 [==============================] - 122s 15ms/step - loss: 0.6057 - val_loss: 0.8037\n",
            "Epoch 5/10\n",
            "8002/8002 [==============================] - 128s 16ms/step - loss: 0.4989 - val_loss: 0.8250\n",
            "Epoch 6/10\n",
            "8002/8002 [==============================] - 128s 16ms/step - loss: 0.4112 - val_loss: 0.8692\n",
            "Epoch 7/10\n",
            "8002/8002 [==============================] - 125s 16ms/step - loss: 0.3486 - val_loss: 0.9119\n",
            "Epoch 8/10\n",
            "8002/8002 [==============================] - 126s 16ms/step - loss: 0.3057 - val_loss: 0.9578\n",
            "Epoch 9/10\n",
            "8002/8002 [==============================] - 127s 16ms/step - loss: 0.2766 - val_loss: 0.9989\n",
            "Epoch 10/10\n",
            "8002/8002 [==============================] - 128s 16ms/step - loss: 0.2556 - val_loss: 1.0331\n"
          ]
        },
        {
          "output_type": "execute_result",
          "data": {
            "text/plain": [
              "<keras.callbacks.History at 0x7f1ac3bb4f10>"
            ]
          },
          "metadata": {},
          "execution_count": 55
        }
      ]
    },
    {
      "cell_type": "code",
      "source": [
        "results = model.evaluate(test_x, y_test, batch_size=128)\n",
        "print(\"test loss:\",results)"
      ],
      "metadata": {
        "colab": {
          "base_uri": "https://localhost:8080/"
        },
        "id": "e-06jp_GYceZ",
        "outputId": "b77f8e3c-f35b-4769-8614-c056c79cf9e4"
      },
      "execution_count": 56,
      "outputs": [
        {
          "output_type": "stream",
          "name": "stdout",
          "text": [
            "782/782 [==============================] - 2s 2ms/step - loss: 1.0326\n",
            "test loss: 1.0326240062713623\n"
          ]
        }
      ]
    }
  ]
}